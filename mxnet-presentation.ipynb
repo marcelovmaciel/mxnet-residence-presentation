{
 "cells": [
  {
   "cell_type": "markdown",
   "metadata": {},
   "source": [
    "- Tem duas apis core e duas apis high level:\n",
    "    - Apis core: NDArray e Symbol\n",
    "    - Apis high-level: Gluon e Module ( e Keras)"
   ]
  },
  {
   "cell_type": "code",
   "execution_count": 1,
   "metadata": {
    "scrolled": true
   },
   "outputs": [
    {
     "name": "stdout",
     "output_type": "stream",
     "text": [
      "{\r\n",
      "    \"floatx\": \"float32\",\r\n",
      "    \"epsilon\": 1e-07,\r\n",
      "    \"backend\": \"mxnet\",\r\n",
      "    \"image_data_format\": \"channels_first\"\r\n",
      "}\r\n"
     ]
    }
   ],
   "source": [
    "!cat ~/.keras/keras.json"
   ]
  },
  {
   "cell_type": "code",
   "execution_count": null,
   "metadata": {},
   "outputs": [],
   "source": []
  },
  {
   "cell_type": "code",
   "execution_count": null,
   "metadata": {},
   "outputs": [],
   "source": []
  },
  {
   "cell_type": "code",
   "execution_count": 1,
   "metadata": {},
   "outputs": [
    {
     "name": "stderr",
     "output_type": "stream",
     "text": [
      "Using MXNet backend\n"
     ]
    }
   ],
   "source": [
    "\n",
    "import keras\n",
    "from keras.models import Sequential\n",
    "from keras.layers import Dense\n",
    "import mxnet as mx"
   ]
  },
  {
   "cell_type": "code",
   "execution_count": 2,
   "metadata": {},
   "outputs": [],
   "source": [
    "import pandas as pd\n",
    "import seaborn as sns \n",
    "import matplotlib.pyplot as plt\n",
    "import sklearn.preprocessing as preprocessing\n",
    "from sklearn.model_selection import train_test_split\n",
    "import sklearn"
   ]
  },
  {
   "cell_type": "code",
   "execution_count": 3,
   "metadata": {},
   "outputs": [],
   "source": [
    "def plot_pie(y):\n",
    "    from collections import Counter\n",
    "    target_stats = Counter(y)\n",
    "    labels = list(target_stats.keys())\n",
    "    sizes = list(target_stats.values())\n",
    "    explode = tuple([0.1] * len(target_stats))\n",
    "\n",
    "    def make_autopct(values):\n",
    "        def my_autopct(pct):\n",
    "            total = sum(values)\n",
    "            val = int(round(pct * total / 100.0))\n",
    "            return '{p:.2f}%  ({v:d})'.format(p=pct, v=val)\n",
    "        return my_autopct\n",
    "\n",
    "    fig, ax = plt.subplots()\n",
    "    ax.pie(sizes, explode=explode, labels=labels, shadow=True,\n",
    "           autopct=make_autopct(sizes))\n",
    "    ax.axis('equal')"
   ]
  },
  {
   "cell_type": "code",
   "execution_count": 4,
   "metadata": {},
   "outputs": [],
   "source": [
    "df = pd.read_excel(\"BreastTissue.xls\", sheet_name = \"Data\")\n",
    "df.drop(\"Case #\", axis = 1, inplace = True)\n",
    "normalizer = lambda X: preprocessing.MinMaxScaler().fit_transform(X)\n",
    "df[df.drop(\"Class\",axis =1 ).columns] = normalizer(df.drop(\"Class\",axis =1 ))\n",
    "\n"
   ]
  },
  {
   "cell_type": "code",
   "execution_count": 5,
   "metadata": {},
   "outputs": [
    {
     "data": {
      "image/png": "[encoded data removed]",
      "text/plain": [
       "<Figure size 432x288 with 1 Axes>"
      ]
     },
     "metadata": {},
     "output_type": "display_data"
    }
   ],
   "source": [
    "plot_pie(df[\"Class\"])"
   ]
  },
  {
   "cell_type": "code",
   "execution_count": 6,
   "metadata": {},
   "outputs": [],
   "source": [
    "def categorical_toNumerical(y):\n",
    "    from sklearn import preprocessing\n",
    "    enconder_output = preprocessing.LabelEncoder()\n",
    "    a_str = y.astype('str')\n",
    "    enconder_output.fit(a_str)\n",
    "    categorical_to_numerical = enconder_output.transform(a_str)\n",
    "    return(categorical_to_numerical)\n",
    "\n",
    "\n",
    "df[\"Class\"]  = categorical_toNumerical(df[\"Class\"])\n",
    "\n",
    "normalizer = lambda X: sklearn.preprocessing.MinMaxScaler().fit_transform(X)\n",
    "\n",
    "\n",
    "df[df.drop(\"Class\", axis = 1 ).columns] = normalizer(df\n",
    "                                                   .drop(\"Class\", axis = 1 ))"
   ]
  },
  {
   "cell_type": "code",
   "execution_count": 7,
   "metadata": {},
   "outputs": [],
   "source": [
    "(X_train, X_test,\n",
    " y_train, y_test) = train_test_split(normalizer(df\n",
    "                                      .drop(\"Class\", axis = 1)), \n",
    "                                     df[\"Class\"],\n",
    "                                     test_size=0.33, shuffle = True)"
   ]
  },
  {
   "cell_type": "markdown",
   "metadata": {},
   "source": [
    "# Keras implementation"
   ]
  },
  {
   "cell_type": "code",
   "execution_count": 8,
   "metadata": {},
   "outputs": [
    {
     "name": "stderr",
     "output_type": "stream",
     "text": [
      "/home/mvmaciel/anaconda3/envs/mx1/lib/python3.7/site-packages/mxnet/module/bucketing_module.py:408: UserWarning: Optimizer created manually outside Module but rescale_grad is not normalized to 1.0/batch_size/num_workers (1.0 vs. 0.03125). Is this intended?\n",
      "  force_init=force_init)\n"
     ]
    }
   ],
   "source": [
    "model = Sequential()\n",
    "model.add(Dense(31, input_dim=X_train.shape[1], activation='relu'))\n",
    "model.add(Dense(6, activation='softmax'))\n",
    "model.compile(optimizer = 'adam',\n",
    "              loss='categorical_crossentropy',\n",
    "              metrics=['categorical_accuracy'])\n",
    "\n",
    "history = model.fit(X_train,\n",
    "                    keras.utils.to_categorical(y_train),\n",
    "                    epochs=2100,\n",
    "                    verbose = False, \n",
    "                    validation_data = (X_test, keras.utils.to_categorical(y_test)) )"
   ]
  },
  {
   "cell_type": "markdown",
   "metadata": {},
   "source": [
    "# MXNet implementation"
   ]
  },
  {
   "cell_type": "code",
   "execution_count": 9,
   "metadata": {},
   "outputs": [],
   "source": [
    "from mxnet import autograd\n",
    "from mxnet import gluon\n",
    "import mxnet.ndarray as nd\n",
    "import numpy as np\n",
    "\n",
    "\n",
    "# for plotting purposes\n",
    "%matplotlib inline\n",
    "import matplotlib\n",
    "import matplotlib.pyplot as plt"
   ]
  },
  {
   "cell_type": "code",
   "execution_count": 10,
   "metadata": {},
   "outputs": [],
   "source": [
    "import mxnet.gluon.nn as mx_nn\n",
    "import mxnet.gluon as gluon\n",
    "import mxnet.gluon.data as gdt\n",
    "\n",
    "\n",
    "mx_net = mx_nn.Sequential()\n",
    "mx_net.add(mx_nn.Dense(31, activation ='relu'),\n",
    "          mx_nn.Dense(6))\n",
    "\n",
    "mx_net.initialize()\n",
    "#mx_loss_fn = gluon.loss.SoftmaxCrossEntropyLoss()\n",
    "mx_trainer = gluon.Trainer(mx_net.collect_params(),\n",
    "                           'adam')"
   ]
  },
  {
   "cell_type": "markdown",
   "metadata": {},
   "source": [
    "# Não consegui fazer one-hot encoding "
   ]
  },
  {
   "cell_type": "code",
   "execution_count": 11,
   "metadata": {},
   "outputs": [],
   "source": [
    "# train_data = (gdt.DataLoader(gdt.dataset.ArrayDataset(mx.nd.array(X_train),\n",
    "#                                                      mx.nd.one_hot(mx.nd.array( y_train), len(y_train.unique()))),\n",
    "#                              batch_size =  5))\n",
    "\n",
    "# test_data = (gdt.DataLoader(gdt.dataset.ArrayDataset(mx.nd.array(X_test),\n",
    "#                                                      mx.nd.one_hot(mx.nd.array( y_test), len(y_test.unique()))), \n",
    "#                             batch_size =  5))"
   ]
  },
  {
   "cell_type": "code",
   "execution_count": 12,
   "metadata": {},
   "outputs": [],
   "source": [
    "train_data = (gdt.DataLoader(gdt.dataset.ArrayDataset(mx.nd.array(X_train),\n",
    "                                                      mx.nd.array( y_train)),\n",
    "                             batch_size =  5))\n",
    "\n",
    "test_data = (gdt.DataLoader(gdt.dataset.ArrayDataset(mx.nd.array(X_test),\n",
    "                                                     mx.nd.array(y_test)), \n",
    "                            batch_size =  5))"
   ]
  },
  {
   "cell_type": "code",
   "execution_count": 13,
   "metadata": {},
   "outputs": [],
   "source": [
    "def accuracy(data_iterator, net, ctx=mx.cpu()):\n",
    "    acc = mx.metric.Accuracy()\n",
    "    for (data, label) in data_iterator:\n",
    "        data = data.as_in_context(ctx)\n",
    "        label = label.as_in_context(ctx)\n",
    "        output = net(data)\n",
    "        predictions = mx.nd.argmax(output, axis=1)\n",
    "        acc.update(preds=predictions, labels=label)\n",
    "    return acc.get()[1]"
   ]
  },
  {
   "cell_type": "markdown",
   "metadata": {},
   "source": [
    "In classification, we often apply the softmax operator to the predicted outputs to obtain prediction probabilities, and then apply the cross entropy loss against the true labels. Running these two steps one-by-one, however, may need to numerical instabilities. The loss module provides a single operators with softmax and cross entropy fused to avoid such problem."
   ]
  },
  {
   "cell_type": "code",
   "execution_count": 14,
   "metadata": {},
   "outputs": [],
   "source": [
    "def train(net, trainer, train_data, validation_data, epochs, ctx=mx.cpu()):\n",
    "    training_accuracies = []\n",
    "    validation_accuracies = []\n",
    "    losses = []\n",
    "    softmax_cross_entropy = gluon.loss.SoftmaxCrossEntropyLoss()\n",
    "    for e in range(epochs):\n",
    "        for (data, label) in train_data:\n",
    "            data  = data.as_in_context(ctx)\n",
    "            label = label.as_in_context(ctx)\n",
    "            with autograd.record():\n",
    "                output = net(data)\n",
    "                loss = softmax_cross_entropy(output, label)\n",
    "                loss.backward()\n",
    "            trainer.step(data.shape[0])\n",
    "        train_accuracy = accuracy(train_data, net)\n",
    "        training_accuracies.append(train_accuracy)\n",
    "        losses.append(loss.asscalar())\n",
    "        validation_accuracy = accuracy(validation_data, net)\n",
    "        validation_accuracies.append(validation_accuracy)\n",
    "       # print(\"Epoch#{} Time={:.2f} Training={:.4f} Validation={:.4f} Loss={}\".format(e,  toc-tic, train_accuracy,\n",
    "        #                                                                              validation_accuracy,loss.asscalar()))\n",
    "    return training_accuracies, validation_accuracies, losses"
   ]
  },
  {
   "cell_type": "code",
   "execution_count": 15,
   "metadata": {},
   "outputs": [],
   "source": [
    "(training_accuracies, \n",
    " validation_accuracies,\n",
    " losses) = train(mx_net, mx_trainer,train_data,test_data, 2500)"
   ]
  },
  {
   "cell_type": "code",
   "execution_count": 16,
   "metadata": {},
   "outputs": [],
   "source": [
    "def plot_accuracies(training_accuracies, validation_accuracies, losses):\n",
    "    import matplotlib.ticker as ticker\n",
    "    epochs = len(training_accuracies)\n",
    "    plt.clf()\n",
    "    fig, ax = plt.subplots(figsize=(10, 6))\n",
    "    plt.xlabel('Epochs')\n",
    "    plt.ylabel('Metrics')\n",
    "    train_plot, = ax.plot(range(epochs), training_accuracies,marker = \"o\",  label=\"Training accuracy\")\n",
    "    validation_plot, = ax.plot(range(epochs), validation_accuracies,marker = \"o\", label=\"Validation accuracy\")\n",
    "    loss_plot, = ax.plot(range(epochs), losses,marker = \"o\", label=\"Loss\")\n",
    "    \n",
    "    plt.legend(handles=[train_plot,validation_plot, loss_plot])\n",
    "    plt.xticks(rotation='vertical')\n",
    "#    ax.yaxis.set_major_formatter(ticker.FormatStrFormatter('%0.4f'))\n",
    "    plt.show()"
   ]
  },
  {
   "cell_type": "code",
   "execution_count": 17,
   "metadata": {},
   "outputs": [
    {
     "data": {
      "text/plain": [
       "[0.6585257142857145, 0.052970977344356476]"
      ]
     },
     "execution_count": 17,
     "metadata": {},
     "output_type": "execute_result"
    }
   ],
   "source": [
    "list(map(lambda f: f(validation_accuracies), [np.mean, np.std]))"
   ]
  },
  {
   "cell_type": "code",
   "execution_count": 18,
   "metadata": {},
   "outputs": [
    {
     "data": {
      "text/plain": [
       "<Figure size 432x288 with 0 Axes>"
      ]
     },
     "metadata": {},
     "output_type": "display_data"
    },
    {
     "data": {
      "image/png": "[encoded data removed]",
      "text/plain": [
       "<Figure size 720x432 with 1 Axes>"
      ]
     },
     "metadata": {
      "needs_background": "light"
     },
     "output_type": "display_data"
    }
   ],
   "source": [
    "plot_accuracies(training_accuracies, validation_accuracies, losses)"
   ]
  },
  {
   "cell_type": "markdown",
   "metadata": {},
   "source": [
    "### Esse loss é de treino e não sei por qual razão cai tanto."
   ]
  },
  {
   "cell_type": "markdown",
   "metadata": {},
   "source": [
    "# Plotting NN convergence"
   ]
  },
  {
   "cell_type": "code",
   "execution_count": 25,
   "metadata": {},
   "outputs": [],
   "source": [
    "def nnconvergence(hist, title =\"Rede neural - rodada única\" ):\n",
    "    f, ax = plt.subplots(figsize=(10, 6))\n",
    "    ax.plot(hist.history['categorical_accuracy'], marker = \"o\", label = \"acuracia(teste)\")\n",
    "    ax.plot(hist.history['val_categorical_accuracy'], marker = \"o\", label = \"acuracia(val)\")\n",
    "    ax.plot(hist.history[\"loss\"], marker = \"o\", label = \"erro de treino\")\n",
    "    ax.set_title(title)\n",
    "    ax.set_ylabel(\"Medidas\")\n",
    "    ax.set_xlabel(\"Iterações\")\n",
    "    ax.legend()\n",
    "    \n"
   ]
  },
  {
   "cell_type": "code",
   "execution_count": 26,
   "metadata": {},
   "outputs": [
    {
     "data": {
      "text/plain": [
       "[0.6778503409072655, 0.10429626727894485]"
      ]
     },
     "execution_count": 26,
     "metadata": {},
     "output_type": "execute_result"
    }
   ],
   "source": [
    "list(map(lambda f: f(history.history[\"val_categorical_accuracy\"]), [np.mean, np.std]))"
   ]
  },
  {
   "cell_type": "code",
   "execution_count": 27,
   "metadata": {},
   "outputs": [
    {
     "data": {
      "image/png": "[encoded data removed]",
      "text/plain": [
       "<Figure size 720x432 with 1 Axes>"
      ]
     },
     "metadata": {
      "needs_background": "light"
     },
     "output_type": "display_data"
    }
   ],
   "source": [
    "nnconvergence(history)"
   ]
  },
  {
   "cell_type": "markdown",
   "metadata": {},
   "source": [
    "# Proximos passos\n",
    "- 1. Implementar uma versão no Module api\n",
    "- 2. Explicar o que é, quem ta por detras, qual o ecossistema de ferramentas\n",
    "- 3. Explicar os pros e os contras \n",
    "- 4. Explicitar quais são as apis e os modulos da api python\n",
    "- 5. Explicar melhor como funciona Gluon Api x Module api\n",
    "- 6. Mostrar como seria a versão clojure e julia \n",
    "- 7. unificar os plots num grid"
   ]
  },
  {
   "cell_type": "code",
   "execution_count": null,
   "metadata": {},
   "outputs": [],
   "source": []
  }
 ],
 "metadata": {
  "kernelspec": {
   "display_name": "Python 3",
   "language": "python",
   "name": "python3"
  },
  "language_info": {
   "codemirror_mode": {
    "name": "ipython",
    "version": 3
   },
   "file_extension": ".py",
   "mimetype": "text/x-python",
   "name": "python",
   "nbconvert_exporter": "python",
   "pygments_lexer": "ipython3",
   "version": "3.7.3"
  },
  "livereveal": {
   "theme": "black"
  }
 },
 "nbformat": 4,
 "nbformat_minor": 2
}
